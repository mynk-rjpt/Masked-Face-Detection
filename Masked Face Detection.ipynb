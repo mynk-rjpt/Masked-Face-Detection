{
  "nbformat": 4,
  "nbformat_minor": 0,
  "metadata": {
    "kernelspec": {
      "display_name": "Python 3",
      "language": "python",
      "name": "python3"
    },
    "language_info": {
      "codemirror_mode": {
        "name": "ipython",
        "version": 3
      },
      "file_extension": ".py",
      "mimetype": "text/x-python",
      "name": "python",
      "nbconvert_exporter": "python",
      "pygments_lexer": "ipython3",
      "version": "3.8.5"
    },
    "colab": {
      "name": "Minor_Project_Code.ipynb",
      "provenance": []
    }
  },
  "cells": [
    {
      "cell_type": "markdown",
      "metadata": {
        "id": "D1hTm95nMme0"
      },
      "source": [
        "# **PRML Minor Project**"
      ]
    },
    {
      "cell_type": "markdown",
      "metadata": {
        "id": "kWw4t-uiTJTW"
      },
      "source": [
        "**Topic - 'Mask' Or 'No Mask' Detection**                  \n",
        "**Team Members**                                \n",
        "*   Mayank Singh Rajput (B19CSE054)   \n",
        "*   Mohit Ahirwar (B19CSE055)\n",
        "\n",
        "\n"
      ]
    },
    {
      "cell_type": "markdown",
      "metadata": {
        "id": "n2J6Vi5CTycL"
      },
      "source": [
        "Importing necessary modules"
      ]
    },
    {
      "cell_type": "code",
      "metadata": {
        "id": "Hd1H6NE5G9vn"
      },
      "source": [
        "import cv2,os\n",
        "import numpy as np\n",
        "from keras.utils import np_utils\n",
        "from keras.models import Sequential\n",
        "from keras.layers import Dense,Activation,Flatten,Dropout\n",
        "from keras.layers import Conv2D,MaxPooling2D\n",
        "from sklearn.model_selection import train_test_split\n",
        "import matplotlib.pyplot as plt\n",
        "from sklearn.metrics import accuracy_score\n",
        "from sklearn.metrics import confusion_matrix, classification_report\n",
        "from sklearn.metrics import plot_confusion_matrix\n",
        "from sklearn.metrics import roc_curve"
      ],
      "execution_count": null,
      "outputs": []
    },
    {
      "cell_type": "code",
      "metadata": {
        "id": "cO7XH8uPG9v2"
      },
      "source": [
        "# Giving path\n",
        "path ='dataset'\n",
        "classes = os.listdir(path)\n",
        "img_size = 100\n",
        "data=[]\n",
        "target=[]"
      ],
      "execution_count": null,
      "outputs": []
    },
    {
      "cell_type": "code",
      "metadata": {
        "id": "4TR-GJjZG9v4",
        "outputId": "67b800f0-2461-4cbb-f39e-4d03f36e3c34"
      },
      "source": [
        "# Creating labels\n",
        "labels=[i for i in range(len(classes))]\n",
        "label_dict=dict(zip(classes,labels))\n",
        "\n",
        "print(\"Label Dictionary :\",label_dict)\n",
        "print(30*'--')\n",
        "print(\"Categories :\",classes)\n",
        "print(30*'--')\n",
        "print(\"Labels :\",labels)\n",
        "print(30*'--')"
      ],
      "execution_count": null,
      "outputs": [
        {
          "output_type": "stream",
          "text": [
            "Label Dictionary : {'masked': 0, 'unmasked': 1}\n",
            "------------------------------------------------------------\n",
            "Categories : ['masked', 'unmasked']\n",
            "------------------------------------------------------------\n",
            "Labels : [0, 1]\n",
            "------------------------------------------------------------\n"
          ],
          "name": "stdout"
        }
      ]
    },
    {
      "cell_type": "markdown",
      "metadata": {
        "id": "QCrObr0BVEuW"
      },
      "source": [
        "Image Preprocessing"
      ]
    },
    {
      "cell_type": "code",
      "metadata": {
        "id": "uH5fQK9mG9v6"
      },
      "source": [
        "for category in classes:\n",
        "    folder_path=os.path.join(path,category)\n",
        "    img_names=os.listdir(folder_path)\n",
        "        \n",
        "    for img_name in img_names:\n",
        "        img_path=os.path.join(folder_path,img_name)\n",
        "        img=cv2.imread(img_path)\n",
        "        gray=cv2.cvtColor(img,cv2.COLOR_BGR2GRAY)   #Coverting the image into gray scale\n",
        "        resized=cv2.resize(gray,(img_size,img_size))    #resizing the gray scale\n",
        "        data.append(resized)    #appending the image and the label(categorized) into the list (dataset)\n",
        "        target.append(label_dict[category])"
      ],
      "execution_count": null,
      "outputs": []
    },
    {
      "cell_type": "code",
      "metadata": {
        "id": "jsJuRaHLG9v7"
      },
      "source": [
        "#scaling the image\n",
        "data=np.array(data)/255.0\n",
        "#Reshaping it\n",
        "X = np.reshape(data,(data.shape[0],img_size,img_size,1))\n",
        "y = np.array(target)\n",
        "# Using to_categorical from np.utils\n",
        "y_cat = np_utils.to_categorical(target)"
      ],
      "execution_count": null,
      "outputs": []
    },
    {
      "cell_type": "markdown",
      "metadata": {
        "id": "2tyniL4hV6-2"
      },
      "source": [
        "#***Classifier 1 - CNN***"
      ]
    },
    {
      "cell_type": "code",
      "metadata": {
        "id": "el27UZP8G9v7"
      },
      "source": [
        "#Building CNN Model\n",
        "model=Sequential()\n",
        "\n",
        "#The first CNN layer\n",
        "\n",
        "#Convolution layer of a kernel size 200\n",
        "model.add(Conv2D(200,(3,3),input_shape = X.shape[1:]))\n",
        "#Relu layer\n",
        "model.add(Activation('relu'))\n",
        "#MaxPooling layer\n",
        "model.add(MaxPooling2D(pool_size=(2,2)))\n",
        "\n",
        "#The second convolution layer\n",
        "\n",
        "#Convolution layer of a kernel size 100\n",
        "model.add(Conv2D(100,(3,3)))\n",
        "#Relu layer\n",
        "model.add(Activation('relu'))\n",
        "#MaxPooling layer\n",
        "model.add(MaxPooling2D(pool_size=(2,2)))\n",
        "\n",
        "#Flatten layer to stack the output convolutions from second convolution layer\n",
        "model.add(Flatten())\n",
        "\n",
        "#Performing Dropout to avoid overfitting\n",
        "model.add(Dropout(0.5))\n",
        "\n",
        "#Dense layer of 64 neurons\n",
        "model.add(Dense(50,activation='relu'))\n",
        "\n",
        "#The Final layer with two outputs for two categories\n",
        "model.add(Dense(2,activation='softmax'))\n",
        "\n",
        "#Compiling the model\n",
        "model.compile(loss='categorical_crossentropy',optimizer='adam',metrics=['accuracy'])"
      ],
      "execution_count": null,
      "outputs": []
    },
    {
      "cell_type": "code",
      "metadata": {
        "id": "O9NwF0ccG9v8",
        "outputId": "3a879101-fd1f-4f49-91e0-ab937fcfb36a"
      },
      "source": [
        "model.summary()"
      ],
      "execution_count": null,
      "outputs": [
        {
          "output_type": "stream",
          "text": [
            "Model: \"sequential\"\n",
            "_________________________________________________________________\n",
            "Layer (type)                 Output Shape              Param #   \n",
            "=================================================================\n",
            "conv2d (Conv2D)              (None, 98, 98, 200)       2000      \n",
            "_________________________________________________________________\n",
            "activation (Activation)      (None, 98, 98, 200)       0         \n",
            "_________________________________________________________________\n",
            "max_pooling2d (MaxPooling2D) (None, 49, 49, 200)       0         \n",
            "_________________________________________________________________\n",
            "conv2d_1 (Conv2D)            (None, 47, 47, 100)       180100    \n",
            "_________________________________________________________________\n",
            "activation_1 (Activation)    (None, 47, 47, 100)       0         \n",
            "_________________________________________________________________\n",
            "max_pooling2d_1 (MaxPooling2 (None, 23, 23, 100)       0         \n",
            "_________________________________________________________________\n",
            "flatten (Flatten)            (None, 52900)             0         \n",
            "_________________________________________________________________\n",
            "dropout (Dropout)            (None, 52900)             0         \n",
            "_________________________________________________________________\n",
            "dense (Dense)                (None, 50)                2645050   \n",
            "_________________________________________________________________\n",
            "dense_1 (Dense)              (None, 2)                 102       \n",
            "=================================================================\n",
            "Total params: 2,827,252\n",
            "Trainable params: 2,827,252\n",
            "Non-trainable params: 0\n",
            "_________________________________________________________________\n"
          ],
          "name": "stdout"
        }
      ]
    },
    {
      "cell_type": "code",
      "metadata": {
        "id": "6yBDdvdmG9v9"
      },
      "source": [
        "# Splitting test and train for CNN model building\n",
        "train_X,test_X,train_y,test_y = train_test_split(X,y_cat,test_size=0.5)"
      ],
      "execution_count": null,
      "outputs": []
    },
    {
      "cell_type": "code",
      "metadata": {
        "id": "UwKq0apqG9v-",
        "outputId": "08c9f43d-38f7-4377-c0ea-f06deb170bfc"
      },
      "source": [
        "CNN = model.fit(train_X,train_y,epochs = 15,validation_split=0.2)"
      ],
      "execution_count": null,
      "outputs": [
        {
          "output_type": "stream",
          "text": [
            "Epoch 1/15\n",
            "63/63 [==============================] - 77s 1s/step - loss: 0.5841 - accuracy: 0.6672 - val_loss: 0.3320 - val_accuracy: 0.9780\n",
            "Epoch 2/15\n",
            "63/63 [==============================] - 75s 1s/step - loss: 0.3439 - accuracy: 0.9669 - val_loss: 0.3299 - val_accuracy: 0.9321\n",
            "Epoch 3/15\n",
            "63/63 [==============================] - 75s 1s/step - loss: 0.3147 - accuracy: 0.9638 - val_loss: 0.2832 - val_accuracy: 0.9880\n",
            "Epoch 4/15\n",
            "63/63 [==============================] - 70s 1s/step - loss: 0.2781 - accuracy: 0.9828 - val_loss: 0.2578 - val_accuracy: 0.9860\n",
            "Epoch 5/15\n",
            "63/63 [==============================] - 71s 1s/step - loss: 0.2079 - accuracy: 0.9656 - val_loss: 0.0417 - val_accuracy: 0.9880\n",
            "Epoch 6/15\n",
            "63/63 [==============================] - 71s 1s/step - loss: 0.1010 - accuracy: 0.9657 - val_loss: 0.2105 - val_accuracy: 0.9062\n",
            "Epoch 7/15\n",
            "63/63 [==============================] - 73s 1s/step - loss: 0.0672 - accuracy: 0.9771 - val_loss: 0.1129 - val_accuracy: 0.9541\n",
            "Epoch 8/15\n",
            "63/63 [==============================] - 73s 1s/step - loss: 0.0454 - accuracy: 0.9871 - val_loss: 0.0904 - val_accuracy: 0.9741\n",
            "Epoch 9/15\n",
            "63/63 [==============================] - 76s 1s/step - loss: 0.0420 - accuracy: 0.9910 - val_loss: 0.0200 - val_accuracy: 0.9940\n",
            "Epoch 10/15\n",
            "63/63 [==============================] - 78s 1s/step - loss: 0.0237 - accuracy: 0.9910 - val_loss: 0.0316 - val_accuracy: 0.9900\n",
            "Epoch 11/15\n",
            "63/63 [==============================] - 74s 1s/step - loss: 0.0191 - accuracy: 0.9947 - val_loss: 0.0238 - val_accuracy: 0.9900\n",
            "Epoch 12/15\n",
            "63/63 [==============================] - 69s 1s/step - loss: 0.0126 - accuracy: 0.9976 - val_loss: 0.0423 - val_accuracy: 0.9880\n",
            "Epoch 13/15\n",
            "63/63 [==============================] - 70s 1s/step - loss: 0.0157 - accuracy: 0.9968 - val_loss: 0.0237 - val_accuracy: 0.9900\n",
            "Epoch 14/15\n",
            "63/63 [==============================] - 74s 1s/step - loss: 0.0043 - accuracy: 0.9991 - val_loss: 0.0105 - val_accuracy: 0.9920\n",
            "Epoch 15/15\n",
            "63/63 [==============================] - 73s 1s/step - loss: 0.0051 - accuracy: 0.9975 - val_loss: 0.0150 - val_accuracy: 0.9920\n"
          ],
          "name": "stdout"
        }
      ]
    },
    {
      "cell_type": "code",
      "metadata": {
        "id": "xZsNRlSCG9v_",
        "outputId": "1ca5f8ca-6a4d-41f0-9b24-6b5a2e6d6abc"
      },
      "source": [
        "#To visualize the training process \n",
        "plt.plot(CNN.history['accuracy'])\n",
        "plt.plot(CNN.history['val_accuracy'])\n",
        "plt.xlabel('epoch')\n",
        "plt.ylabel('Accuracy')\n",
        "plt.legend(['Train','Test'])\n",
        "print(\"          -----------Accuracy Graph-----------   \")\n",
        "plt.show()"
      ],
      "execution_count": null,
      "outputs": [
        {
          "output_type": "stream",
          "text": [
            "          -----------Accuracy Graph-----------   \n"
          ],
          "name": "stdout"
        },
        {
          "output_type": "display_data",
          "data": {
            "image/png": "[encoded data removed]",
            "text/plain": [
              "<Figure size 432x288 with 1 Axes>"
            ]
          },
          "metadata": {
            "tags": [],
            "needs_background": "light"
          }
        }
      ]
    },
    {
      "cell_type": "code",
      "metadata": {
        "id": "3FNNcLTeG9wC",
        "outputId": "e8acbce2-3e29-4026-add0-b1e1b4b5c0be"
      },
      "source": [
        "plt.plot(CNN.history['loss'])\n",
        "plt.plot(CNN.history['val_loss'])\n",
        "plt.xlabel('epoch')\n",
        "plt.ylabel('Loss')\n",
        "plt.legend(['Train','Test'])\n",
        "print(\"          -----------Loss Graph-----------   \")\n",
        "plt.show()"
      ],
      "execution_count": null,
      "outputs": [
        {
          "output_type": "stream",
          "text": [
            "          -----------Loss Graph-----------   \n"
          ],
          "name": "stdout"
        },
        {
          "output_type": "display_data",
          "data": {
            "image/png": "[encoded data removed]",
            "text/plain": [
              "<Figure size 432x288 with 1 Axes>"
            ]
          },
          "metadata": {
            "tags": [],
            "needs_background": "light"
          }
        }
      ]
    },
    {
      "cell_type": "code",
      "metadata": {
        "id": "zkFFqBBMG9wD",
        "outputId": "d281870a-aef5-4c5f-b1ff-db92efa52524"
      },
      "source": [
        "accuracy = model.evaluate(x=test_X,y=test_y,batch_size=32)\n",
        "print(\"Accuracy - CNN : \",accuracy[1]*100,\"%\")"
      ],
      "execution_count": null,
      "outputs": [
        {
          "output_type": "stream",
          "text": [
            "79/79 [==============================] - 23s 287ms/step - loss: 0.0449 - accuracy: 0.9884\n",
            "Accuracy - CNN :  98.84231686592102 %\n"
          ],
          "name": "stdout"
        }
      ]
    },
    {
      "cell_type": "code",
      "metadata": {
        "id": "gVG3SHWYG9wE"
      },
      "source": [
        "prediction = model.predict(test_X)\n",
        "prediction = (prediction > 0.5)"
      ],
      "execution_count": null,
      "outputs": []
    },
    {
      "cell_type": "code",
      "metadata": {
        "id": "fDM8pq9cG9wE",
        "outputId": "bbdd8a77-1cd1-4de1-f316-047323b6a684"
      },
      "source": [
        "accuracy_score(test_y,prediction)*100"
      ],
      "execution_count": null,
      "outputs": [
        {
          "output_type": "execute_result",
          "data": {
            "text/plain": [
              "98.84231536926148"
            ]
          },
          "metadata": {
            "tags": []
          },
          "execution_count": 14
        }
      ]
    },
    {
      "cell_type": "code",
      "metadata": {
        "id": "GSBYOybOG9wF",
        "outputId": "4800cfad-042c-423c-bda2-878777747ae3"
      },
      "source": [
        "#Checking performance our model with classification report\n",
        "import sklearn.metrics as metrics\n",
        "print(30*'--')\n",
        "print(classification_report(test_y, prediction))\n",
        "print(30*'--')"
      ],
      "execution_count": null,
      "outputs": [
        {
          "output_type": "stream",
          "text": [
            "------------------------------------------------------------\n",
            "              precision    recall  f1-score   support\n",
            "\n",
            "           0       0.99      0.99      0.99      1253\n",
            "           1       0.99      0.99      0.99      1252\n",
            "\n",
            "   micro avg       0.99      0.99      0.99      2505\n",
            "   macro avg       0.99      0.99      0.99      2505\n",
            "weighted avg       0.99      0.99      0.99      2505\n",
            " samples avg       0.99      0.99      0.99      2505\n",
            "\n",
            "------------------------------------------------------------\n"
          ],
          "name": "stdout"
        }
      ]
    },
    {
      "cell_type": "code",
      "metadata": {
        "id": "MVvgBxO6G9wG",
        "outputId": "28b615b6-dab9-47f6-bd9c-3b048c2abe5b"
      },
      "source": [
        "train_X.shape"
      ],
      "execution_count": null,
      "outputs": [
        {
          "output_type": "execute_result",
          "data": {
            "text/plain": [
              "(2504, 100, 100, 1)"
            ]
          },
          "metadata": {
            "tags": []
          },
          "execution_count": 16
        }
      ]
    },
    {
      "cell_type": "code",
      "metadata": {
        "id": "Y8jDTyGOG9wG",
        "outputId": "7e196b26-ec07-4d3a-e966-aef8fe91f1fb"
      },
      "source": [
        "test_X.shape"
      ],
      "execution_count": null,
      "outputs": [
        {
          "output_type": "execute_result",
          "data": {
            "text/plain": [
              "(2505, 100, 100, 1)"
            ]
          },
          "metadata": {
            "tags": []
          },
          "execution_count": 17
        }
      ]
    },
    {
      "cell_type": "code",
      "metadata": {
        "id": "qdfkU6nxG9wH"
      },
      "source": [
        "# Generating test and train files for building rest of the models\n",
        "train_X,test_X,train_y,test_y = train_test_split(X,y,test_size=0.5)"
      ],
      "execution_count": null,
      "outputs": []
    },
    {
      "cell_type": "code",
      "metadata": {
        "id": "ZrjeoAqSG9wH",
        "outputId": "4975cdbd-a9c2-4935-9bd7-cac64a10e601"
      },
      "source": [
        "train_X.shape"
      ],
      "execution_count": null,
      "outputs": [
        {
          "output_type": "execute_result",
          "data": {
            "text/plain": [
              "(2504, 100, 100, 1)"
            ]
          },
          "metadata": {
            "tags": []
          },
          "execution_count": 19
        }
      ]
    },
    {
      "cell_type": "code",
      "metadata": {
        "id": "5wagIm8CG9wI"
      },
      "source": [
        "train_X = train_X.reshape(2504,100*100)\n",
        "test_X = test_X.reshape(2505,100*100)"
      ],
      "execution_count": null,
      "outputs": []
    },
    {
      "cell_type": "markdown",
      "metadata": {
        "id": "zHJgWYiSWInB"
      },
      "source": [
        "#***Classifier 2 - SVM (linear + gaussian)***"
      ]
    },
    {
      "cell_type": "code",
      "metadata": {
        "id": "FxeM1P-EG9wI"
      },
      "source": [
        "#Create a svm Classifier\n",
        "from sklearn import svm\n",
        "clf = svm.SVC(kernel='linear') # Linear Kernel\n",
        "\n",
        "#Train the model using the training sets\n",
        "clf.fit(train_X,train_y)\n",
        "\n",
        "#Predict the response for test dataset\n",
        "pred_y_svm = clf.predict(test_X)"
      ],
      "execution_count": null,
      "outputs": []
    },
    {
      "cell_type": "code",
      "metadata": {
        "id": "ylRFDjUJG9wI",
        "outputId": "44472a90-56b7-4ba0-9845-071b3deacd9b"
      },
      "source": [
        "#Import scikit-learn metrics module for accuracy calculation\n",
        "from sklearn import metrics\n",
        "\n",
        "# Model Accuracy\n",
        "print(30*'--')\n",
        "print(\"Accuracy - SVM (Linear):\",metrics.accuracy_score(test_y, pred_y_svm)*100,\"%\")\n",
        "print(30*'--')"
      ],
      "execution_count": null,
      "outputs": [
        {
          "output_type": "stream",
          "text": [
            "------------------------------------------------------------\n",
            "Accuracy - SVM (Linear): 93.0938123752495 %\n",
            "------------------------------------------------------------\n"
          ],
          "name": "stdout"
        }
      ]
    },
    {
      "cell_type": "code",
      "metadata": {
        "id": "1pbO-ei1G9wJ"
      },
      "source": [
        "# SVM - gaussian Kernel"
      ],
      "execution_count": null,
      "outputs": []
    },
    {
      "cell_type": "code",
      "metadata": {
        "id": "awDGvV84G9wK"
      },
      "source": [
        "clf1 = svm.SVC(kernel='rbf') # Linear Kernel\n",
        "\n",
        "#Train the model using the training sets\n",
        "clf1.fit(train_X,train_y)\n",
        "\n",
        "#Predict the response for test dataset\n",
        "pred_y_svm_gaussian = clf1.predict(test_X)"
      ],
      "execution_count": null,
      "outputs": []
    },
    {
      "cell_type": "code",
      "metadata": {
        "id": "t_tU1TeZG9wK",
        "outputId": "669138df-bb95-4dd0-dd59-775e8cfa4aa3"
      },
      "source": [
        "# Model Accuracy\n",
        "print(30*'--')\n",
        "print(\"Accuracy - SVM (Gaussian):\",metrics.accuracy_score(test_y, pred_y_svm_gaussian)*100,\"%\")\n",
        "print(30*'--')"
      ],
      "execution_count": null,
      "outputs": [
        {
          "output_type": "stream",
          "text": [
            "------------------------------------------------------------\n",
            "Accuracy - SVM (Gaussian): 98.16367265469061 %\n",
            "------------------------------------------------------------\n"
          ],
          "name": "stdout"
        }
      ]
    },
    {
      "cell_type": "code",
      "metadata": {
        "id": "RUKIod4mG9wL",
        "outputId": "0a48bf9a-14fd-44cf-8bd7-c2d8ca0efda7"
      },
      "source": [
        "#Checking performance our model with classification report\n",
        "print(30*'--')\n",
        "print(classification_report(test_y, pred_y_svm_gaussian))\n",
        "print(30*'--')\n",
        "#Plotting ROC curve\n",
        "print(\"PLotting ROC for SVM (Gaussian) :\\n\")\n",
        "metrics.plot_roc_curve(clf1, test_X, test_y)  \n",
        "plt.show() \n",
        "print(30*'--')"
      ],
      "execution_count": null,
      "outputs": [
        {
          "output_type": "stream",
          "text": [
            "------------------------------------------------------------\n",
            "              precision    recall  f1-score   support\n",
            "\n",
            "           0       0.98      0.98      0.98      1250\n",
            "           1       0.98      0.98      0.98      1255\n",
            "\n",
            "    accuracy                           0.98      2505\n",
            "   macro avg       0.98      0.98      0.98      2505\n",
            "weighted avg       0.98      0.98      0.98      2505\n",
            "\n",
            "------------------------------------------------------------\n",
            "PLotting ROC for SVM (Gaussian) :\n",
            "\n"
          ],
          "name": "stdout"
        },
        {
          "output_type": "display_data",
          "data": {
            "image/png": "[encoded data removed]",
            "text/plain": [
              "<Figure size 432x288 with 1 Axes>"
            ]
          },
          "metadata": {
            "tags": [],
            "needs_background": "light"
          }
        },
        {
          "output_type": "stream",
          "text": [
            "------------------------------------------------------------\n"
          ],
          "name": "stdout"
        }
      ]
    },
    {
      "cell_type": "markdown",
      "metadata": {
        "id": "XOBWc6OjWCD9"
      },
      "source": [
        "#***Classifier 3 - KNN***"
      ]
    },
    {
      "cell_type": "code",
      "metadata": {
        "id": "hrSOh62PG9wM"
      },
      "source": [
        "#Import knearest neighbors Classifier model\n",
        "from sklearn.neighbors import KNeighborsClassifier\n",
        "\n",
        "#Create KNN Classifier\n",
        "knn = KNeighborsClassifier(n_neighbors=2)\n",
        "\n",
        "#Train the model using the training sets\n",
        "knn.fit(train_X,train_y)\n",
        "\n",
        "#Predict the response for test dataset\n",
        "y_pred_knn = knn.predict(test_X)"
      ],
      "execution_count": null,
      "outputs": []
    },
    {
      "cell_type": "code",
      "metadata": {
        "id": "bQdmlq6vG9wN",
        "outputId": "4503d96a-25c8-4c15-bba9-9f6642d63127"
      },
      "source": [
        "# Model Accuracy\n",
        "print(30*'--')\n",
        "print(\"Accuracy - KNN :\",metrics.accuracy_score(test_y, y_pred_knn)*100,\"%\")\n",
        "print(30*'--')"
      ],
      "execution_count": null,
      "outputs": [
        {
          "output_type": "stream",
          "text": [
            "------------------------------------------------------------\n",
            "Accuracy - KNN : 93.01397205588823 %\n",
            "------------------------------------------------------------\n"
          ],
          "name": "stdout"
        }
      ]
    },
    {
      "cell_type": "code",
      "metadata": {
        "id": "0eyuT8a3G9wO",
        "outputId": "38672036-8ebe-453d-ccd7-75a84fad7e3a"
      },
      "source": [
        "#Checking performance our model with classification report\n",
        "print(30*'--')\n",
        "print(classification_report(test_y, y_pred_knn))\n",
        "print(30*'--')\n",
        "#Plotting ROC curve\n",
        "print(\"PLotting ROC for KNN :\\n\")\n",
        "metrics.plot_roc_curve(knn, test_X, test_y)  \n",
        "plt.show() \n",
        "print(30*'--')"
      ],
      "execution_count": null,
      "outputs": [
        {
          "output_type": "stream",
          "text": [
            "------------------------------------------------------------\n",
            "              precision    recall  f1-score   support\n",
            "\n",
            "           0       0.99      0.87      0.93      1250\n",
            "           1       0.89      0.99      0.93      1255\n",
            "\n",
            "    accuracy                           0.93      2505\n",
            "   macro avg       0.94      0.93      0.93      2505\n",
            "weighted avg       0.94      0.93      0.93      2505\n",
            "\n",
            "------------------------------------------------------------\n",
            "PLotting ROC for KNN :\n",
            "\n"
          ],
          "name": "stdout"
        },
        {
          "output_type": "display_data",
          "data": {
            "image/png": "[encoded data removed]",
            "text/plain": [
              "<Figure size 432x288 with 1 Axes>"
            ]
          },
          "metadata": {
            "tags": [],
            "needs_background": "light"
          }
        },
        {
          "output_type": "stream",
          "text": [
            "------------------------------------------------------------\n"
          ],
          "name": "stdout"
        }
      ]
    },
    {
      "cell_type": "markdown",
      "metadata": {
        "id": "caORjAjbWSBh"
      },
      "source": [
        "#***Classifier 4 - Logistic Regression***"
      ]
    },
    {
      "cell_type": "code",
      "metadata": {
        "id": "ck-Ok0gyG9wP"
      },
      "source": [
        "from sklearn.linear_model import LogisticRegression\n",
        "clf_lr = LogisticRegression(max_iter = 3000).fit(train_X,train_y)\n",
        "y_pred_lr = clf_lr.predict(test_X)"
      ],
      "execution_count": null,
      "outputs": []
    },
    {
      "cell_type": "code",
      "metadata": {
        "id": "BPOTxafEG9wQ",
        "outputId": "abf234ae-084d-4ccd-e539-d9f44100ed85"
      },
      "source": [
        "clf_lr.score(train_X,train_y)"
      ],
      "execution_count": null,
      "outputs": [
        {
          "output_type": "execute_result",
          "data": {
            "text/plain": [
              "1.0"
            ]
          },
          "metadata": {
            "tags": []
          },
          "execution_count": 33
        }
      ]
    },
    {
      "cell_type": "code",
      "metadata": {
        "id": "YbefpvNfG9wQ",
        "outputId": "819d402b-b8da-46fe-de4f-611aa390841f"
      },
      "source": [
        "# Model Accuracy\n",
        "print(30*'--')\n",
        "print(\"Accuracy - Logistic Regression :\",metrics.accuracy_score(test_y, y_pred_lr)*100,\"%\")\n",
        "print(30*'--')"
      ],
      "execution_count": null,
      "outputs": [
        {
          "output_type": "stream",
          "text": [
            "------------------------------------------------------------\n",
            "Accuracy - Logistic Regression : 94.41117764471058 %\n",
            "------------------------------------------------------------\n"
          ],
          "name": "stdout"
        }
      ]
    },
    {
      "cell_type": "code",
      "metadata": {
        "id": "TMKmZkZZG9wR",
        "outputId": "9a6ba090-e23c-466e-c3c5-6f6b850e7696"
      },
      "source": [
        "#Checking performance our model with classification report\n",
        "print(30*'--')\n",
        "print(classification_report(test_y, y_pred_lr))\n",
        "print(30*'--')\n",
        "#Plotting ROC curve\n",
        "print(\"PLotting ROC for Logistic Regression :\\n\")\n",
        "metrics.plot_roc_curve(clf_lr, test_X, test_y)  \n",
        "plt.show() \n",
        "print(30*'--')"
      ],
      "execution_count": null,
      "outputs": [
        {
          "output_type": "stream",
          "text": [
            "------------------------------------------------------------\n",
            "              precision    recall  f1-score   support\n",
            "\n",
            "           0       0.96      0.92      0.94      1250\n",
            "           1       0.93      0.97      0.95      1255\n",
            "\n",
            "    accuracy                           0.94      2505\n",
            "   macro avg       0.94      0.94      0.94      2505\n",
            "weighted avg       0.94      0.94      0.94      2505\n",
            "\n",
            "------------------------------------------------------------\n",
            "PLotting ROC for Logistic Regression :\n",
            "\n"
          ],
          "name": "stdout"
        },
        {
          "output_type": "display_data",
          "data": {
            "image/png": "[encoded data removed]",
            "text/plain": [
              "<Figure size 432x288 with 1 Axes>"
            ]
          },
          "metadata": {
            "tags": [],
            "needs_background": "light"
          }
        },
        {
          "output_type": "stream",
          "text": [
            "------------------------------------------------------------\n"
          ],
          "name": "stdout"
        }
      ]
    }
  ]
}